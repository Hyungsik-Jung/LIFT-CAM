{
 "cells": [
  {
   "cell_type": "code",
   "execution_count": null,
   "id": "constant-confidentiality",
   "metadata": {},
   "outputs": [],
   "source": [
    "\"\"\"\n",
    "Import modules\n",
    "\"\"\"\n",
    "import os, time\n",
    "import warnings\n",
    "import pickle\n",
    "import cv2\n",
    "import numpy as np\n",
    "import torch\n",
    "\n",
    "from utils import load_model, preprocess_image, visualize\n",
    "from Explanation import CAM_Explanation"
   ]
  },
  {
   "cell_type": "code",
   "execution_count": null,
   "id": "sitting-anthony",
   "metadata": {},
   "outputs": [],
   "source": [
    "\"\"\"\n",
    "Required parameters\n",
    "    - gpu_id : gpu device number.\n",
    "    - model_archi : original prediction model; 1)\"vgg16\" or 2)\"resnet50\" are possible options.\n",
    "    - ckpt_path : model's checkpoint path. If None, you will use an off-the-shelf model pretrained on ImageNet.\n",
    "    - img_path : the path of sample image which you want to analyze.\n",
    "    - method : saliency method; \"LIFT-CAM\", \"LRP-CAM\", and \"LIME-CAM\" are the possible options.\n",
    "\"\"\"\n",
    "gpu_id = \"0\"\n",
    "model_archi = \"vgg16\"\n",
    "ckpt_path = None\n",
    "img_path = \"./notebook.jpg\" \n",
    "method = \"LIFT-CAM\""
   ]
  },
  {
   "cell_type": "code",
   "execution_count": null,
   "id": "deluxe-cheat",
   "metadata": {},
   "outputs": [],
   "source": [
    "\"\"\"\n",
    "Preparation\n",
    "\"\"\"\n",
    "warnings.filterwarnings(\"ignore\")\n",
    "os.environ[\"CUDA_VISIBLE_DEVICES\"] = gpu_id\n",
    "idx_to_label = pickle.load(open(\"./idx2label.p\",\"rb\"))"
   ]
  },
  {
   "cell_type": "code",
   "execution_count": null,
   "id": "otherwise-inclusion",
   "metadata": {
    "scrolled": true
   },
   "outputs": [],
   "source": [
    "\"\"\"\n",
    "Prediction\n",
    "\"\"\"\n",
    "original_img = cv2.imread(img_path, 1)\n",
    "original_img_resized = cv2.resize(original_img,(224,224))\n",
    "img = preprocess_image(np.float32(original_img_resized)/255)\n",
    "model = load_model(model_archi, ckpt_path)\n",
    "output = torch.nn.Softmax()(model(img))\n",
    "category = int(torch.argmax(output).cpu().detach().numpy())\n",
    "print(\"Predicted Label: {}\".format(idx_to_label[category]))"
   ]
  },
  {
   "cell_type": "code",
   "execution_count": null,
   "id": "inner-stadium",
   "metadata": {},
   "outputs": [],
   "source": [
    "\"\"\"\n",
    "Attribution\n",
    "\"\"\"\n",
    "CAM = CAM_Explanation(model, method)\n",
    "start = time.time()\n",
    "vis_ex_map = CAM(img.cpu(),int(category),(224,224))\n",
    "end = time.time()\n",
    "print(\"Elapsed time: {} sec\".format(end-start))"
   ]
  },
  {
   "cell_type": "code",
   "execution_count": null,
   "id": "variable-integral",
   "metadata": {
    "scrolled": true
   },
   "outputs": [],
   "source": [
    "\"\"\"\n",
    "Visualization\n",
    "\"\"\"\n",
    "visualize(original_img_resized, vis_ex_map, method)"
   ]
  }
 ],
 "metadata": {
  "kernelspec": {
   "display_name": "liftcam",
   "language": "python",
   "name": "liftcam"
  },
  "language_info": {
   "codemirror_mode": {
    "name": "ipython",
    "version": 3
   },
   "file_extension": ".py",
   "mimetype": "text/x-python",
   "name": "python",
   "nbconvert_exporter": "python",
   "pygments_lexer": "ipython3",
   "version": "3.7.13"
  },
  "pycharm": {
   "stem_cell": {
    "cell_type": "raw",
    "source": [],
    "metadata": {
     "collapsed": false
    }
   }
  }
 },
 "nbformat": 4,
 "nbformat_minor": 5
}